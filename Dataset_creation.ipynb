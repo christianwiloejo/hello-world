{
  "nbformat": 4,
  "nbformat_minor": 0,
  "metadata": {
    "colab": {
      "name": "Dataset_creation.ipynb",
      "provenance": [],
      "collapsed_sections": [],
      "include_colab_link": true
    },
    "kernelspec": {
      "name": "python3",
      "display_name": "Python 3"
    }
  },
  "cells": [
    {
      "cell_type": "markdown",
      "metadata": {
        "id": "view-in-github",
        "colab_type": "text"
      },
      "source": [
        "<a href=\"https://colab.research.google.com/github/christianwiloejo/hello-world/blob/master/Dataset_creation.ipynb\" target=\"_parent\"><img src=\"https://colab.research.google.com/assets/colab-badge.svg\" alt=\"Open In Colab\"/></a>"
      ]
    },
    {
      "cell_type": "markdown",
      "metadata": {
        "id": "jwXfg1YyMr5s",
        "colab_type": "text"
      },
      "source": [
        "# Dataset creation in Colab"
      ]
    },
    {
      "cell_type": "markdown",
      "metadata": {
        "id": "ls06EZMKNC-1",
        "colab_type": "text"
      },
      "source": [
        "In this notebook I'll show how to automatically create an images dataset scraping from Google Images.  You will learn also how to browse in your Colab and Drive filesystem."
      ]
    },
    {
      "cell_type": "markdown",
      "metadata": {
        "id": "zU4VxNTA71qu",
        "colab_type": "text"
      },
      "source": [
        "Disclaimer: the content of this notebook is for *informational use* only. I recommend anyone who has a need for massive or frequent use, to consult the [Google Cloud section](https://cloud.google.com/products/) or the [Custom Search API](https: // developers. google.com/custom-search/)."
      ]
    },
    {
      "cell_type": "markdown",
      "metadata": {
        "id": "L4FbOq6Dd8cN",
        "colab_type": "text"
      },
      "source": [
        "## 1. Install *google_images_download*"
      ]
    },
    {
      "cell_type": "markdown",
      "metadata": {
        "id": "WYbA6eEDeDfA",
        "colab_type": "text"
      },
      "source": [
        "Our scraper will be [google_images_download](https://github.com/hardikvasa/google-images-download#troubleshooting-errors-issues), a  beautiful and very easy to use script. It uses Selenium browser to scrape from the web, but don't worry, no other programs will be open, it acts in the background.  \n",
        "By the way: it is NOT a official Google package."
      ]
    },
    {
      "cell_type": "code",
      "metadata": {
        "id": "wHh8b1uJIX4L",
        "colab_type": "code",
        "colab": {
          "base_uri": "https://localhost:8080/",
          "height": 258
        },
        "outputId": "f7fe01f7-4948-4a3b-8617-674320af1beb"
      },
      "source": [
        "!pip install google_images_download"
      ],
      "execution_count": null,
      "outputs": [
        {
          "output_type": "stream",
          "text": [
            "Collecting google_images_download\n",
            "  Downloading https://files.pythonhosted.org/packages/18/ed/0319d30c48f3653802da8e6dcfefcea6370157d10d566ef6807cceb5ec4d/google_images_download-2.8.0.tar.gz\n",
            "Collecting selenium\n",
            "\u001b[?25l  Downloading https://files.pythonhosted.org/packages/80/d6/4294f0b4bce4de0abf13e17190289f9d0613b0a44e5dd6a7f5ca98459853/selenium-3.141.0-py2.py3-none-any.whl (904kB)\n",
            "\u001b[K     |████████████████████████████████| 911kB 2.8MB/s \n",
            "\u001b[?25hRequirement already satisfied: urllib3 in /usr/local/lib/python3.6/dist-packages (from selenium->google_images_download) (1.24.3)\n",
            "Building wheels for collected packages: google-images-download\n",
            "  Building wheel for google-images-download (setup.py) ... \u001b[?25l\u001b[?25hdone\n",
            "  Created wheel for google-images-download: filename=google_images_download-2.8.0-py2.py3-none-any.whl size=14550 sha256=e6e6d0d393d2dba4f0fef032b123808a1b4eeb20f3293872768216f178ff3e72\n",
            "  Stored in directory: /root/.cache/pip/wheels/1f/28/ad/f56e7061e1d2a9a1affe2f9c649c2570cb9198dd24ede0bbab\n",
            "Successfully built google-images-download\n",
            "Installing collected packages: selenium, google-images-download\n",
            "Successfully installed google-images-download-2.8.0 selenium-3.141.0\n"
          ],
          "name": "stdout"
        }
      ]
    },
    {
      "cell_type": "markdown",
      "metadata": {
        "id": "__rD-VtjdcUK",
        "colab_type": "text"
      },
      "source": [
        "## 2. Download Chromedriver"
      ]
    },
    {
      "cell_type": "markdown",
      "metadata": {
        "id": "G1c-mdHKOt-f",
        "colab_type": "text"
      },
      "source": [
        "As said above, we need to run a browser in the background, so we need to install it and make it reachable by our scraper. <br>The browser has already been installed with the package, thus now an acces to it is needed.<br>Let's download the *chromiumdriver* and guess what it is.. "
      ]
    },
    {
      "cell_type": "code",
      "metadata": {
        "id": "tknPaAx1HUds",
        "colab_type": "code",
        "colab": {
          "base_uri": "https://localhost:8080/",
          "height": 258
        },
        "outputId": "f91eae2f-c3f1-4d4d-af4c-eeceb5f294fb"
      },
      "source": [
        "!wget https://chromedriver.storage.googleapis.com/2.42/chromedriver_linux64.zip  && unzip chromedriver_linux64"
      ],
      "execution_count": null,
      "outputs": [
        {
          "output_type": "stream",
          "text": [
            "--2020-02-24 12:08:18--  https://chromedriver.storage.googleapis.com/2.42/chromedriver_linux64.zip\n",
            "Resolving chromedriver.storage.googleapis.com (chromedriver.storage.googleapis.com)... 74.125.141.128, 2607:f8b0:400c:c07::80\n",
            "Connecting to chromedriver.storage.googleapis.com (chromedriver.storage.googleapis.com)|74.125.141.128|:443... connected.\n",
            "HTTP request sent, awaiting response... 200 OK\n",
            "Length: 4039043 (3.9M) [application/zip]\n",
            "Saving to: ‘chromedriver_linux64.zip’\n",
            "\n",
            "\rchromedriver_linux6   0%[                    ]       0  --.-KB/s               \rchromedriver_linux6 100%[===================>]   3.85M  --.-KB/s    in 0.02s   \n",
            "\n",
            "2020-02-24 12:08:18 (176 MB/s) - ‘chromedriver_linux64.zip’ saved [4039043/4039043]\n",
            "\n",
            "Archive:  chromedriver_linux64.zip\n",
            "  inflating: chromedriver            \n"
          ],
          "name": "stdout"
        }
      ]
    },
    {
      "cell_type": "markdown",
      "metadata": {
        "id": "N41Qe6S4gkSC",
        "colab_type": "text"
      },
      "source": [
        "## 3. Set the *chromedriver*  path for the script"
      ]
    },
    {
      "cell_type": "markdown",
      "metadata": {
        "id": "QhGVp6tagNC7",
        "colab_type": "text"
      },
      "source": [
        "We mount the Drive driver, thus it will allow us to use the filesystem in the Google environment, to get the path of the chromedriver.<br>\n",
        "We will use [colabtools module](https://github.com/googlecolab/colabtools) by Google, a tool set still in development but very powerful yet.\n",
        "<br>\n",
        "So execute the next cell, follow the link and get the authorization code to past in the text field below, in order to get access to your Drive."
      ]
    },
    {
      "cell_type": "code",
      "metadata": {
        "id": "kahqcDUh94Zk",
        "colab_type": "code",
        "colab": {
          "base_uri": "https://localhost:8080/",
          "height": 122
        },
        "outputId": "57d5e3b0-a93c-49f2-ce56-942fae527e14"
      },
      "source": [
        "import os\n",
        "#Mount the drive from Google to save the dataset\n",
        "from google.colab import drive # this will be our driver\n",
        "drive.mount('/gdrive')\n",
        "root = '/gdrive/My Drive/'     # if you want to operate on your Google Drive"
      ],
      "execution_count": null,
      "outputs": [
        {
          "output_type": "stream",
          "text": [
            "Go to this URL in a browser: https://accounts.google.com/o/oauth2/auth?client_id=947318989803-6bn6qk8qdgf4n4g3pfee6491hc0brc4i.apps.googleusercontent.com&redirect_uri=urn%3aietf%3awg%3aoauth%3a2.0%3aoob&response_type=code&scope=email%20https%3a%2f%2fwww.googleapis.com%2fauth%2fdocs.test%20https%3a%2f%2fwww.googleapis.com%2fauth%2fdrive%20https%3a%2f%2fwww.googleapis.com%2fauth%2fdrive.photos.readonly%20https%3a%2f%2fwww.googleapis.com%2fauth%2fpeopleapi.readonly\n",
            "\n",
            "Enter your authorization code:\n",
            "··········\n",
            "Mounted at /gdrive\n"
          ],
          "name": "stdout"
        }
      ]
    },
    {
      "cell_type": "markdown",
      "metadata": {
        "id": "6s99vrDPF5h8",
        "colab_type": "text"
      },
      "source": [
        "We set a variable with the *Colab* default path, to easily use it later"
      ]
    },
    {
      "cell_type": "code",
      "metadata": {
        "id": "ui_iuHYkDJU1",
        "colab_type": "code",
        "colab": {}
      },
      "source": [
        "colab_path = '/gdrive/../content/'"
      ],
      "execution_count": null,
      "outputs": []
    },
    {
      "cell_type": "code",
      "metadata": {
        "id": "YqJOQScMItMK",
        "colab_type": "code",
        "colab": {}
      },
      "source": [
        "chromedriver_path = '/gdrive/../content/chromedriver'"
      ],
      "execution_count": null,
      "outputs": []
    },
    {
      "cell_type": "markdown",
      "metadata": {
        "id": "K0yXdPUchx4m",
        "colab_type": "text"
      },
      "source": [
        "## 4. Scrape!"
      ]
    },
    {
      "cell_type": "markdown",
      "metadata": {
        "id": "_RemJtqDiIwt",
        "colab_type": "text"
      },
      "source": [
        "Here is an example of the scraper usage, you will find a lot of other arguments in the [official page](https://github.com/hardikvasa/google-images-download#troubleshooting-errors-issues), check it."
      ]
    },
    {
      "cell_type": "code",
      "metadata": {
        "id": "_ocd4u5EIgs_",
        "colab_type": "code",
        "colab": {
          "base_uri": "https://localhost:8080/",
          "height": 224
        },
        "outputId": "3a6bf6d1-e6b5-47e0-a206-f9c4a438bbdf"
      },
      "source": [
        "from google_images_download import google_images_download   #importing the library\n",
        "\n",
        "keyws   = \" cats with mustaches\"\n",
        "limit   = 100\n",
        "chromedriver = chromedriver_path\n",
        "offset  = None  # how many links to skip\n",
        "color_type\t= None# color type you want to apply to the images.[full-color, black-and-white, transparent]\n",
        "size    = None  #relative size of the image to be downloaded. [large, medium, icon, >400*300, >640*480, >800*600, >1024*768, >2MP, >4MP, >6MP, >8MP, >10MP, >12MP, >15MP, >20MP, >40MP, >70MP]\n",
        "usage_rights\t= 'labeled-for-reuse' #Very important! Check the doc\n",
        "\n",
        "arguments = {\n",
        "        \"keywords\" : keyws,\n",
        "        \"limit\" :limit,\n",
        "        \"chromedriver\":chromedriver,\n",
        "        \"offset\" : offset,\n",
        "        \"color_type\" : color_type,\n",
        "        \"size\" : size,\n",
        "        \"usage_rights\" : usage_rights\n",
        "        }   #creating list of arguments\n",
        "response  = google_images_download.googleimagesdownload()   #class instantiation\n",
        "response.download(arguments)  "
      ],
      "execution_count": null,
      "outputs": [
        {
          "output_type": "stream",
          "text": [
            "\n",
            "Item no.: 1 --> Item name =  cats with mustaches\n",
            "Evaluating...\n",
            "Starting Download...\n",
            "\n",
            "\n",
            "Unfortunately all 100 could not be downloaded because some images were not downloadable. 0 is all we got for this search filter!\n",
            "\n",
            "Errors: 0\n",
            "\n"
          ],
          "name": "stdout"
        },
        {
          "output_type": "execute_result",
          "data": {
            "text/plain": [
              "({' cats with mustaches': []}, 0)"
            ]
          },
          "metadata": {
            "tags": []
          },
          "execution_count": 14
        }
      ]
    },
    {
      "cell_type": "markdown",
      "metadata": {
        "id": "VVwuaAyajJaQ",
        "colab_type": "text"
      },
      "source": [
        "Now the **driver** comes into play. We will manage our dataset through the paths, by it."
      ]
    },
    {
      "cell_type": "code",
      "metadata": {
        "id": "B0ToqYuOJW29",
        "colab_type": "code",
        "colab": {
          "base_uri": "https://localhost:8080/",
          "height": 34
        },
        "outputId": "8268db0a-3e77-4a18-c138-6c22af2437e2"
      },
      "source": [
        "dataset_path = 'downloads/' + keyws + '/'\n",
        "dataset = [ dataset_path + img_name for img_name in os.listdir( colab_path + dataset_path ) ]\n",
        "dataset[:10]  #Peek the first ten"
      ],
      "execution_count": null,
      "outputs": [
        {
          "output_type": "execute_result",
          "data": {
            "text/plain": [
              "[]"
            ]
          },
          "metadata": {
            "tags": []
          },
          "execution_count": 13
        }
      ]
    },
    {
      "cell_type": "markdown",
      "metadata": {
        "id": "Wh4wztlPMgXk",
        "colab_type": "text"
      },
      "source": [
        "## 4.1 Check it!"
      ]
    },
    {
      "cell_type": "markdown",
      "metadata": {
        "id": "rZAwHmvgjrsz",
        "colab_type": "text"
      },
      "source": [
        "To be sure the code worked well let's peek a sample and visualize it with matplotlib"
      ]
    },
    {
      "cell_type": "code",
      "metadata": {
        "id": "oo_CEgmJJywK",
        "colab_type": "code",
        "colab": {
          "base_uri": "https://localhost:8080/",
          "height": 215
        },
        "outputId": "13a9cbbf-1836-437c-93a4-30e053120531"
      },
      "source": [
        "import matplotlib.pyplot as plt\n",
        "%matplotlib inline\n",
        "plt.imshow( plt.imread( colab_path + dataset[4] ) )\n",
        "plt.grid(b=None) #remove grid"
      ],
      "execution_count": null,
      "outputs": [
        {
          "output_type": "error",
          "ename": "IndexError",
          "evalue": "ignored",
          "traceback": [
            "\u001b[0;31m---------------------------------------------------------------------------\u001b[0m",
            "\u001b[0;31mIndexError\u001b[0m                                Traceback (most recent call last)",
            "\u001b[0;32m<ipython-input-8-698136096e1c>\u001b[0m in \u001b[0;36m<module>\u001b[0;34m()\u001b[0m\n\u001b[1;32m      1\u001b[0m \u001b[0;32mimport\u001b[0m \u001b[0mmatplotlib\u001b[0m\u001b[0;34m.\u001b[0m\u001b[0mpyplot\u001b[0m \u001b[0;32mas\u001b[0m \u001b[0mplt\u001b[0m\u001b[0;34m\u001b[0m\u001b[0;34m\u001b[0m\u001b[0m\n\u001b[1;32m      2\u001b[0m \u001b[0mget_ipython\u001b[0m\u001b[0;34m(\u001b[0m\u001b[0;34m)\u001b[0m\u001b[0;34m.\u001b[0m\u001b[0mmagic\u001b[0m\u001b[0;34m(\u001b[0m\u001b[0;34m'matplotlib inline'\u001b[0m\u001b[0;34m)\u001b[0m\u001b[0;34m\u001b[0m\u001b[0;34m\u001b[0m\u001b[0m\n\u001b[0;32m----> 3\u001b[0;31m \u001b[0mplt\u001b[0m\u001b[0;34m.\u001b[0m\u001b[0mimshow\u001b[0m\u001b[0;34m(\u001b[0m \u001b[0mplt\u001b[0m\u001b[0;34m.\u001b[0m\u001b[0mimread\u001b[0m\u001b[0;34m(\u001b[0m \u001b[0mcolab_path\u001b[0m \u001b[0;34m+\u001b[0m \u001b[0mdataset\u001b[0m\u001b[0;34m[\u001b[0m\u001b[0;36m4\u001b[0m\u001b[0;34m]\u001b[0m \u001b[0;34m)\u001b[0m \u001b[0;34m)\u001b[0m\u001b[0;34m\u001b[0m\u001b[0;34m\u001b[0m\u001b[0m\n\u001b[0m\u001b[1;32m      4\u001b[0m \u001b[0mplt\u001b[0m\u001b[0;34m.\u001b[0m\u001b[0mgrid\u001b[0m\u001b[0;34m(\u001b[0m\u001b[0mb\u001b[0m\u001b[0;34m=\u001b[0m\u001b[0;32mNone\u001b[0m\u001b[0;34m)\u001b[0m \u001b[0;31m#remove grid\u001b[0m\u001b[0;34m\u001b[0m\u001b[0;34m\u001b[0m\u001b[0m\n",
            "\u001b[0;31mIndexError\u001b[0m: list index out of range"
          ]
        }
      ]
    },
    {
      "cell_type": "markdown",
      "metadata": {
        "id": "6AgD1Me1j3_2",
        "colab_type": "text"
      },
      "source": [
        "Well done! We have now a fresh new dataset on Colab! 👌"
      ]
    }
  ]
}